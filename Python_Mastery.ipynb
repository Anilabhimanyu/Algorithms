{
  "nbformat": 4,
  "nbformat_minor": 0,
  "metadata": {
    "colab": {
      "provenance": [],
      "authorship_tag": "ABX9TyOo85xAIRH60h/ErPiYaBDa",
      "include_colab_link": true
    },
    "kernelspec": {
      "name": "python3",
      "display_name": "Python 3"
    },
    "language_info": {
      "name": "python"
    }
  },
  "cells": [
    {
      "cell_type": "markdown",
      "metadata": {
        "id": "view-in-github",
        "colab_type": "text"
      },
      "source": [
        "<a href=\"https://colab.research.google.com/github/Anilabhimanyu/Algorithms/blob/master/Python_Mastery.ipynb\" target=\"_parent\"><img src=\"https://colab.research.google.com/assets/colab-badge.svg\" alt=\"Open In Colab\"/></a>"
      ]
    },
    {
      "cell_type": "markdown",
      "source": [
        "### 1. Write a Python program to print \"Hello, World!\""
      ],
      "metadata": {
        "id": "pzf0DEV63gng"
      }
    },
    {
      "cell_type": "code",
      "source": [
        "print(\"Hello, World!\")"
      ],
      "metadata": {
        "colab": {
          "base_uri": "https://localhost:8080/"
        },
        "id": "ga0BSO6e3lXU",
        "outputId": "0b721177-facb-476c-b209-9f4f3b185515"
      },
      "execution_count": 1,
      "outputs": [
        {
          "output_type": "stream",
          "name": "stdout",
          "text": [
            "Hello, World!\n"
          ]
        }
      ]
    },
    {
      "cell_type": "markdown",
      "source": [
        "### 2. Create a program that takes user input and prints it back.\n"
      ],
      "metadata": {
        "id": "Xc7lWNq83ssR"
      }
    },
    {
      "cell_type": "code",
      "source": [
        "'''\n",
        "Algorithm\n",
        "1. Read user input\n",
        "2. Store it in some variable\n",
        "3. print the same value\n",
        "'''\n",
        "\n",
        "user_input=input(\"enter input here\")\n",
        "print(user_input)\n",
        "\n",
        "# opt: why we need to store in user_input variable, which again req memory,\n",
        "print(input(\"enter input here \"))"
      ],
      "metadata": {
        "colab": {
          "base_uri": "https://localhost:8080/"
        },
        "id": "7a7LYewY3psN",
        "outputId": "344b1003-b28b-40b5-e694-a506a7f941a2"
      },
      "execution_count": 3,
      "outputs": [
        {
          "output_type": "stream",
          "name": "stdout",
          "text": [
            "enter input hereanil\n",
            "anil\n",
            "enter input here anil\n",
            "anil\n"
          ]
        }
      ]
    },
    {
      "cell_type": "markdown",
      "source": [
        "### 3. Write a program to check if a number is even or odd."
      ],
      "metadata": {
        "id": "Yb8D143m4sjf"
      }
    },
    {
      "cell_type": "code",
      "source": [
        "'''\n",
        "Algorithm\n",
        "1. Take number as a input\n",
        "2. check the remainder, then give result\n",
        "3. if 0 even else odd\n",
        "'''\n",
        "\n",
        "num=int(input('enter number :'))\n",
        "if num%2==0:\n",
        "  print(\"even\")\n",
        "else:\n",
        "  print(\"odd\")"
      ],
      "metadata": {
        "colab": {
          "base_uri": "https://localhost:8080/"
        },
        "id": "wPfAgN1k4Wpq",
        "outputId": "4052c6af-1518-4d57-fd29-d8c90672690b"
      },
      "execution_count": 6,
      "outputs": [
        {
          "output_type": "stream",
          "name": "stdout",
          "text": [
            "enter number :45\n",
            "odd\n"
          ]
        }
      ]
    },
    {
      "cell_type": "markdown",
      "source": [],
      "metadata": {
        "id": "J_O0-Bom5blb"
      }
    },
    {
      "cell_type": "code",
      "source": [],
      "metadata": {
        "id": "0At9g7Pi5EJh"
      },
      "execution_count": null,
      "outputs": []
    }
  ]
}